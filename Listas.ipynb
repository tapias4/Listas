{
  "nbformat": 4,
  "nbformat_minor": 0,
  "metadata": {
    "colab": {
      "provenance": [],
      "authorship_tag": "ABX9TyPWCX7IuEaz0OwGyCehYB7Y",
      "include_colab_link": true
    },
    "kernelspec": {
      "name": "python3",
      "display_name": "Python 3"
    },
    "language_info": {
      "name": "python"
    }
  },
  "cells": [
    {
      "cell_type": "markdown",
      "metadata": {
        "id": "view-in-github",
        "colab_type": "text"
      },
      "source": [
        "<a href=\"https://colab.research.google.com/github/tapias4/Listas/blob/main/Listas.ipynb\" target=\"_parent\"><img src=\"https://colab.research.google.com/assets/colab-badge.svg\" alt=\"Open In Colab\"/></a>"
      ]
    },
    {
      "cell_type": "markdown",
      "source": [
        "# listas\n",
        "\n",
        "- Una lista hace referencia a una colección de datos que pueden ser números, cadenas o algún otro tipo.\n",
        "- Son colecciones ordenada de datos o que implica que importa el orden en el cual se encuentran sus elementos.\n",
        "- El primer elemento ocupa la posición \"0\", el segundo la \"1\" y asi sucesivamente.\n",
        "-Son mutables: una vez creada la lista, esta puede modificarse, se le pueden agregar o quitar elementos.\n",
        "- En python estan representadas por el tipo ***list*** y para definirla se utilza la siguiente sintaxis:\n",
        "```nombre_lista = [valor1, valor2, ..., valorn]```\n",
        "- Los elementos puede ser de cualquier tipo, incluso puede haber tipos diferentes en una misma lista.\n",
        "- Tambien es posible crear usando el constructor ```list()```\n"
      ],
      "metadata": {
        "id": "00gmp2V7CmKz"
      }
    },
    {
      "cell_type": "code",
      "source": [
        "# Ejemplo 1\n",
        "\n",
        "# ==========================================================\n",
        "# Usando los [] y dando valores par inicializar las listas\n",
        "# ==========================================================\n",
        "\n",
        "dias_laborales = [\"Lunes\", \"Martes\", \"Miercoles\", \"Jueves\", \"Viernes\"]\n",
        "print(dias_laborales)\n",
        "\n",
        "colores_primarios = [\"Rojo\", \"Amarillo\", \"Azul\"]\n",
        "print(colores_primarios)\n",
        "\n",
        "precios = [205.30, 107.18, 310.89, 170.23, 340]\n",
        "print(precios)\n",
        "print(type(precios))\n",
        "mezcolanza = [12, \"octubre\", 1492, True]\n",
        "Lista_vacia = []\n",
        "\n",
        "# ==========================================================\n",
        "# Usando el construtor list()\n",
        "# ==========================================================\n",
        "Lista_vacia_2 = list()\n",
        "Lista_3 = list(range(0, 30, 2))\n",
        "print(Lista_3)\n",
        "Lista_4 = list(\"range(29, 0, -2)\")\n",
        "print(Lista_4)\n",
        "Lista_5 = list(\"Diego Tapias\")\n",
        "print(Lista_5)\n",
        "frase = \"Diego Fernando Tapias Diaz\"\n",
        "Lista_6 = frase.split()\n",
        "print(Lista_6)\n"
      ],
      "metadata": {
        "id": "F692H8mGMsxu"
      },
      "execution_count": null,
      "outputs": []
    },
    {
      "cell_type": "markdown",
      "source": [
        "## Operaciones\n",
        "\n",
        "### Operador +\n",
        "\n",
        "- Concatear o pegar los elementos de una lsta a el final de otra.\n",
        "\n",
        "### Operador *\n",
        "\n",
        "- Repetir la secuencia de eleentos de la lista tantas veces como lo idique el valor que acompaña a el operador."
      ],
      "metadata": {
        "id": "QXV9UQgyQu9G"
      }
    },
    {
      "cell_type": "code",
      "source": [
        "dias_laborales = [\"Lunes\", \"Martes\", \"Miercoles\", \"Jueves\", \"Viernes\"]\n",
        "\n",
        "colores_primarios = [\"Rojo\", \"Amarillo\", \"Azul\"]\n",
        "\n",
        "precios = [205.30, 107.18, 310.89, 170.23, 340]\n",
        "\n",
        "# Acceso a lo elementos de una lista\n",
        "\n",
        "print(dias_laborales[0])\n",
        "print(dias_laborales[-1])\n",
        "print(dias_laborales[-5])\n",
        "\n",
        "# Operador +\n",
        "\n",
        "Fin_semana = [\"Sabado\", \"Domingo\"]\n",
        "semana = dias_laborales + Fin_semana\n",
        "print(semana)\n",
        "\n",
        "# Operador *\n",
        "\n",
        "Colores_repetidos = colores_primarios * 3\n",
        "print(Colores_repetidos)\n",
        "\n"
      ],
      "metadata": {
        "id": "M3jEx9yBRiSD"
      },
      "execution_count": null,
      "outputs": []
    },
    {
      "cell_type": "markdown",
      "source": [
        "## Funciones asociadas a las listas\n"
      ],
      "metadata": {
        "id": "iVUDc0q-UF0F"
      }
    },
    {
      "cell_type": "code",
      "source": [
        "dias_laborales = [\"Lunes\", \"Martes\", \"Miercoles\", \"Jueves\", \"Viernes\"]\n",
        "\n",
        "colores_primarios = [\"Rojo\", \"Amarillo\", \"Azul\"]\n",
        "\n",
        "precios = [205.30, 107.18, 310.89, 170.23, 340]\n",
        "\n",
        "Pares = list(range(0, 30, 2))\n",
        "\n",
        "Impares = list(\"range(29, 0, -2)\")\n",
        "\n",
        "Colores_repetidos = colores_primarios * 3\n",
        "\n",
        "# append (): Agrega un elemento a el final dela lista\n",
        "\n",
        "dias_laborales.append(\"Sabado\")\n",
        "print(dias_laborales)\n",
        "\n",
        "# len(): Total de elementos de la lista\n",
        "print(\"Total de precios = \", len(precios))\n",
        "\n",
        "# count(): Cuenta el número de veces que aparece un elemento en la lista\n",
        "print(f\"el lunes aparece {dias_laborales.count('Lunes')}vez(veces)\")\n",
        "\n",
        "# inset(): agrega en la posicion indicada por el indice el nuevo valor, desplzando los demas elementos hacia la derecha. Si el idice es mayor a el tamaño de la lista, lo agrega a el final\n",
        "colores_primarios.insert(2, \"Verde\")\n",
        "print(colores_primarios)\n",
        "\n",
        "# remove(): quita el elemento de la lista. Si el elemento no esta lanza una excepcion.\n",
        "dias_laborales.remove(\"Sabado\")\n",
        "print(dias_laborales)\n",
        "\n",
        "# sort(): ordena la lista de menor a mayor\n",
        "precios.sort()\n",
        "print(precios)\n",
        "precios.sort(reverse=True)\n",
        "print(precios)\n",
        "\n",
        "# reverse():\n",
        "\n",
        "# pop():\n",
        "\n",
        "# clear():\n",
        "\n",
        "# del():\n",
        "\n",
        "\n"
      ],
      "metadata": {
        "id": "AA24nV6JUXOX"
      },
      "execution_count": null,
      "outputs": []
    },
    {
      "cell_type": "markdown",
      "source": [
        "## Particion o divicion de listas (slicing o rebanadas)\n",
        "\n",
        "- Se pueden generar sublistas apartir de una lista por medio de la particion (divicion) o slicing.\n",
        "- Para obtener una sublista se utiliza la sintaxis: ```sublista = lista[inicio:fin:n]```"
      ],
      "metadata": {
        "id": "bH1pC2SMf5Zy"
      }
    },
    {
      "cell_type": "code",
      "source": [
        "from re import sub\n",
        "# Se cra una lista de numeros enteros\n",
        "lista_1 = [1, 2, 3, 4, 5, 6,]\n",
        "\n",
        "# sublista con los elementos de la posicion o a la 2 inclusive\n",
        "sublista_1 = lista_1[0:3]\n",
        "print(sublista_1)\n",
        "\n",
        "# sublisa con los elementos 0 a la 3 inclusive\n",
        "sublista_2 = lista_1[:4]\n",
        "print(sublista_2)\n",
        "\n",
        "# sublista con los elementos 3 a la 5\n",
        "sublista_3 = lista_1[3:]\n",
        "print(sublista_3)\n",
        "\n",
        "# sublista con los elementos desde el inicio hasta el final, con saltos de a 2\n",
        "sublista_4 = lista_1[::2]\n",
        "print(sublista_4)\n"
      ],
      "metadata": {
        "colab": {
          "base_uri": "https://localhost:8080/"
        },
        "id": "qxKcgBOQg3wK",
        "outputId": "afec13b0-7463-4945-b109-8439070f32e8"
      },
      "execution_count": 5,
      "outputs": [
        {
          "output_type": "stream",
          "name": "stdout",
          "text": [
            "[1, 2, 3]\n",
            "[1, 2, 3, 4]\n",
            "[4, 5, 6]\n",
            "[1, 3, 5]\n"
          ]
        }
      ]
    }
  ]
}